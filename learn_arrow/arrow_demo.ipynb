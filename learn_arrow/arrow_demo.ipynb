{
 "cells": [
  {
   "cell_type": "code",
   "execution_count": 88,
   "metadata": {
    "collapsed": true
   },
   "outputs": [],
   "source": [
    "import  arrow"
   ]
  },
  {
   "cell_type": "markdown",
   "metadata": {},
   "source": [
    "## 1. 读取时间, 转为 Arrow 对象"
   ]
  },
  {
   "cell_type": "code",
   "execution_count": 89,
   "metadata": {},
   "outputs": [
    {
     "name": "stdout",
     "output_type": "stream",
     "text": [
      "<class 'arrow.arrow.Arrow'> 2017-01-05T00:00:00+00:00\n2017-01-05T00:00:00+00:00\n2017-01-05T00:00:00+00:00\n2017-01-05T00:00:00+00:00\n"
     ]
    }
   ],
   "source": [
    "a = arrow.get('2017-01-05')\n",
    "print(type(a), a)\n",
    "print(arrow.get('2017.01.05'))\n",
    "print(arrow.get('2017/01/05'))\n",
    "print(arrow.get('2017/01/05'))"
   ]
  },
  {
   "cell_type": "code",
   "execution_count": 90,
   "metadata": {},
   "outputs": [
    {
     "name": "stdout",
     "output_type": "stream",
     "text": [
      "2017-01-05T00:00:00+00:00\n2017-01-05T14:32:22+00:00\n"
     ]
    }
   ],
   "source": [
    "# 比较复杂格式的\n",
    "b = arrow.get('05/2017.01', 'DD/YYYY.MM')\n",
    "print(b)\n",
    "print(arrow.get('05/2017.01 14:32:22', 'DD/YYYY.MM hh:mm:ss'))"
   ]
  },
  {
   "cell_type": "code",
   "execution_count": 91,
   "metadata": {},
   "outputs": [
    {
     "name": "stdout",
     "output_type": "stream",
     "text": [
      "2020-04-13T12:46:51+00:00\n2013-05-07T04:24:24+00:00\n2013-05-07T04:24:24.121212+00:00\n"
     ]
    }
   ],
   "source": [
    "# 时间戳格 支持 int, float, str\n",
    "print(arrow.get('1586782011'))\n",
    "print(arrow.get(1367900664))\n",
    "print(arrow.get(1367900664.121212))"
   ]
  },
  {
   "cell_type": "code",
   "execution_count": 92,
   "metadata": {},
   "outputs": [
    {
     "name": "stdout",
     "output_type": "stream",
     "text": [
      "2013-05-05T00:00:00+00:00\n"
     ]
    }
   ],
   "source": [
    "# datetime\n",
    "import datetime\n",
    "print(arrow.get(datetime.datetime(2013, 5, 5)))"
   ]
  },
  {
   "cell_type": "markdown",
   "metadata": {},
   "source": [
    "## 2. 获取当前时间"
   ]
  },
  {
   "cell_type": "code",
   "execution_count": 93,
   "metadata": {},
   "outputs": [
    {
     "name": "stdout",
     "output_type": "stream",
     "text": [
      "2018-01-03T01:31:06.555152+00:00\n2018-01-03T09:31:06.557067+08:00\n"
     ]
    }
   ],
   "source": [
    "utc = arrow.utcnow()\n",
    "print(utc)\n",
    "print(arrow.now())"
   ]
  },
  {
   "cell_type": "markdown",
   "metadata": {},
   "source": [
    "## 3. 格式化输出时间"
   ]
  },
  {
   "cell_type": "code",
   "execution_count": 94,
   "metadata": {
    "collapsed": true
   },
   "outputs": [
    {
     "name": "stdout",
     "output_type": "stream",
     "text": [
      "2018-01-03 01:31:06+00:00\n2018-01-03 01:31:06+00:00\njust now\n刚才\n剛才\n"
     ]
    }
   ],
   "source": [
    "print(utc.format())\n",
    "print(utc.format('YYYY-MM-DD hh:mm:ssZZ'))\n",
    "print(utc.humanize())\n",
    "print(utc.humanize(locale='zh_cn'))\n",
    "print(utc.humanize(locale='zh_tw'))"
   ]
  },
  {
   "cell_type": "markdown",
   "metadata": {},
   "source": [
    "## 4. 获取具体属性"
   ]
  },
  {
   "cell_type": "code",
   "execution_count": 94,
   "metadata": {},
   "outputs": [
    {
     "data": {
      "text/plain": [
       "datetime.datetime(2018, 1, 3, 1, 31, 6, 555152, tzinfo=tzutc())"
      ]
     },
     "execution_count": 94,
     "metadata": {},
     "output_type": "execute_result"
    }
   ],
   "source": [
    "# 转为 datetime\n",
    "utc.datetime"
   ]
  },
  {
   "cell_type": "code",
   "execution_count": 95,
   "metadata": {},
   "outputs": [],
   "source": [
    "utc.date()"
   ]
  },
  {
   "cell_type": "code",
   "execution_count": 95,
   "metadata": {},
   "outputs": [
    {
     "data": {
      "text/plain": [
       "datetime.time(11, 0, 59, 316047)"
      ]
     },
     "execution_count": 84,
     "metadata": {},
     "output_type": "execute_result"
    }
   ],
   "source": [
    "utc.time()"
   ]
  },
  {
   "cell_type": "code",
   "execution_count": 96,
   "metadata": {},
   "outputs": [
    {
     "name": "stdout",
     "output_type": "stream",
     "text": [
      "1514890859\n2018-01-02 11:00:59.316047 tzutc()\n"
     ]
    }
   ],
   "source": [
    "print(utc.timestamp)\n",
    "print(utc.naive, utc.tzinfo)"
   ]
  },
  {
   "cell_type": "code",
   "execution_count": 96,
   "metadata": {},
   "outputs": [
    {
     "name": "stdout",
     "output_type": "stream",
     "text": [
      "2018\n1\n2\n11\n0\n59\n"
     ]
    }
   ],
   "source": [
    "print(utc.year)\n",
    "print(utc.month)\n",
    "print(utc.day)\n",
    "print(utc.hour)\n",
    "print(utc.minute)\n",
    "print(utc.second)"
   ]
  },
  {
   "cell_type": "markdown",
   "metadata": {},
   "source": [
    "## 5.修改和偏移"
   ]
  },
  {
   "cell_type": "code",
   "execution_count": 133,
   "metadata": {},
   "outputs": [
    {
     "name": "stdout",
     "output_type": "stream",
     "text": [
      "before replace:  2018-01-03T01:51:57.009177+00:00\nafter replace:  2018-01-03T10:00:57.009177+00:00\n"
     ]
    }
   ],
   "source": [
    "print('before replace: ', utc)\n",
    "print('after replace: ', utc.replace(hour=10, minute=0))"
   ]
  },
  {
   "cell_type": "code",
   "execution_count": 134,
   "metadata": {},
   "outputs": [
    {
     "name": "stdout",
     "output_type": "stream",
     "text": [
      "before shift:  2018-01-03T01:51:57.009177+00:00\nafter shift:  2018-01-31T11:51:57.009177+00:00\n"
     ]
    }
   ],
   "source": [
    "print('before shift: ', utc)\n",
    "print('after shift: ', utc.shift(weeks=+4, hours=+10))"
   ]
  },
  {
   "cell_type": "markdown",
   "metadata": {},
   "source": [
    "## 6.运算"
   ]
  },
  {
   "cell_type": "code",
   "execution_count": 142,
   "metadata": {},
   "outputs": [],
   "source": [
    "d = arrow.Arrow(2016, 3, 1) - arrow.Arrow(2016, 2, 1)"
   ]
  },
  {
   "cell_type": "code",
   "execution_count": 143,
   "metadata": {},
   "outputs": [
    {
     "data": {
      "text/plain": [
       "<Arrow [2016-03-30T00:00:00+00:00]>"
      ]
     },
     "execution_count": 143,
     "metadata": {},
     "output_type": "execute_result"
    }
   ],
   "source": [
    "arrow.Arrow(2016, 3, 1) + d"
   ]
  },
  {
   "cell_type": "code",
   "execution_count": 144,
   "metadata": {},
   "outputs": [
    {
     "data": {
      "text/plain": [
       "<Arrow [2016-02-01T00:00:00+00:00]>"
      ]
     },
     "execution_count": 144,
     "metadata": {},
     "output_type": "execute_result"
    }
   ],
   "source": [
    "arrow.Arrow(2016, 2, 1)"
   ]
  },
  {
   "cell_type": "code",
   "execution_count": null,
   "metadata": {},
   "outputs": [],
   "source": [
    ""
   ]
  }
 ],
 "metadata": {
  "kernelspec": {
   "display_name": "Python 2",
   "language": "python",
   "name": "python2"
  },
  "language_info": {
   "codemirror_mode": {
    "name": "ipython",
    "version": 2.0
   },
   "file_extension": ".py",
   "mimetype": "text/x-python",
   "name": "python",
   "nbconvert_exporter": "python",
   "pygments_lexer": "ipython2",
   "version": "2.7.6"
  }
 },
 "nbformat": 4,
 "nbformat_minor": 0
}